{
  "nbformat": 4,
  "nbformat_minor": 0,
  "metadata": {
    "colab": {
      "name": "Cric_Simul.ipynb",
      "provenance": [],
      "collapsed_sections": [],
      "authorship_tag": "ABX9TyN+1bS9AEelOVGSoqUPgniw",
      "include_colab_link": true
    },
    "kernelspec": {
      "name": "python3",
      "display_name": "Python 3"
    },
    "language_info": {
      "name": "python"
    }
  },
  "cells": [
    {
      "cell_type": "markdown",
      "metadata": {
        "id": "view-in-github",
        "colab_type": "text"
      },
      "source": [
        "<a href=\"https://colab.research.google.com/github/venkeeg/Python-codes/blob/master/Cric_Simul.ipynb\" target=\"_parent\"><img src=\"https://colab.research.google.com/assets/colab-badge.svg\" alt=\"Open In Colab\"/></a>"
      ]
    },
    {
      "cell_type": "code",
      "metadata": {
        "id": "-2ryUaMEWCS9"
      },
      "source": [
        ""
      ],
      "execution_count": null,
      "outputs": []
    },
    {
      "cell_type": "markdown",
      "metadata": {
        "id": "Zas8B7kHXCGF"
      },
      "source": [
        "# **Cricket T20 game simulation**\n",
        "# Game Situation: Last 4 overs of a T20 cric match.3 wickets in hand. 40 runs to win. Percentage of 4s,6s,1s,2s,5s,0s and OUTs for each player is given.\n",
        "# No run outs. Simulate the game for the last four overs."
      ]
    },
    {
      "cell_type": "markdown",
      "metadata": {
        "id": "Ika7cJYRXBdy"
      },
      "source": [
        ""
      ]
    },
    {
      "cell_type": "code",
      "metadata": {
        "id": "mioOE4zmXaGc"
      },
      "source": [
        "import random\n",
        "import collections\n",
        "import time"
      ],
      "execution_count": 1,
      "outputs": []
    },
    {
      "cell_type": "markdown",
      "metadata": {
        "id": "k3zNKL-yXriJ"
      },
      "source": [
        "##Player class with properties name,runs scored,balls faced and a run generator"
      ]
    },
    {
      "cell_type": "code",
      "metadata": {
        "id": "Dn8C1eUcXehU"
      },
      "source": [
        "##Player class with properties name,runs scored,balls faced and a run generator\n",
        "class player:\n",
        "  def __init__(self, name,runs_sco,balls_f,run_gen):\n",
        "    self.name = name\n",
        "    self.runs_sco = runs_sco\n",
        "    self.balls_f = balls_f\n",
        "    self.run_gen = run_gen"
      ],
      "execution_count": 2,
      "outputs": []
    },
    {
      "cell_type": "markdown",
      "metadata": {
        "id": "g5x-uwv_XpxJ"
      },
      "source": [
        "##Run generator variables based on the probability table given in the problem statement\n",
        "## 7 means the batsman is OUT "
      ]
    },
    {
      "cell_type": "code",
      "metadata": {
        "id": "Kw8AIB9KXgm2"
      },
      "source": [
        "##Run generator variables based on the probability table given in the problem statement\n",
        "## 7 means the batsman is OUT    \n",
        "A_rungen = [0]*5 + [1]*30 + [2]*25 + [3]*10 + [4]*15 + [5]*1 + [6]*9 + [7]*5\n",
        "\n",
        "B_rungen = [0]*10 + [1]*40 + [2]*20 + [3]*5 + [4]*10 + [5]*1 + [6]*4 + [7]*10\n",
        "\n",
        "C_rungen = [0]*20 + [1]*30 + [2]*15 + [3]*5 + [4]*5  + [5]*1 + [6]*4 + [7]*20\n",
        "\n",
        "D_rungen = [0]*30 + [1]*25 + [2]*5 + [3]*0 + [4]*5 + [5]*1 + [6]*4 + [7]*30"
      ],
      "execution_count": 3,
      "outputs": []
    },
    {
      "cell_type": "code",
      "metadata": {
        "id": "a9SvFEDgX9I2"
      },
      "source": [
        "scores = {'Kohli':[0,0,'NOT OUT'],'Shivam Dube':[0,0,'NOT OUT']}  # Initial scores"
      ],
      "execution_count": 4,
      "outputs": []
    },
    {
      "cell_type": "markdown",
      "metadata": {
        "id": "OUGIlKdqX11h"
      },
      "source": [
        "##Incoming batsmen stored in an Ordered Dict to maintain batting order"
      ]
    },
    {
      "cell_type": "code",
      "metadata": {
        "id": "Aen7Jc8SYCrn"
      },
      "source": [
        "nextin = collections.OrderedDict()\n",
        "nextin.update({'W Sundar':[0,0,'YTB',C_rungen]})\n",
        "nextin.update({'Navdeep Saini':[0,0,'YTB',D_rungen]})\n"
      ],
      "execution_count": 5,
      "outputs": []
    },
    {
      "cell_type": "markdown",
      "metadata": {
        "id": "4t7b-QsyYL8H"
      },
      "source": [
        "## Intitialize striker and Nonstriker"
      ]
    },
    {
      "cell_type": "code",
      "metadata": {
        "id": "aDevRROxYO-v"
      },
      "source": [
        "striker = player('Kohli',0,0,A_rungen)\n",
        "\n",
        "nonstriker = player('Shivam Dube',0,0,B_rungen)"
      ],
      "execution_count": 6,
      "outputs": []
    },
    {
      "cell_type": "code",
      "metadata": {
        "colab": {
          "base_uri": "https://localhost:8080/"
        },
        "id": "MQ1JrEQCYTLE",
        "outputId": "b9bb7ede-d02f-4530-da02-04a31e891177"
      },
      "source": [
        "wkts = 3  ## Wickets remaining\n",
        "\n",
        "i = 1     ## First ball\n",
        "\n",
        "ovrs = 4 # 4 overs remaining\n",
        "\n",
        "team_runs = 0 # total runs scored by the players\n",
        "\n",
        "disp_ovr=''\n",
        "##Match situation\n",
        "print(ovrs, \" overs left\",(40-team_runs), \" to win.\",str(wkts)+\" wickets in hand \")"
      ],
      "execution_count": 7,
      "outputs": [
        {
          "output_type": "stream",
          "text": [
            "4  overs left 40  to win. 3 wickets in hand \n"
          ],
          "name": "stdout"
        }
      ]
    },
    {
      "cell_type": "markdown",
      "metadata": {
        "id": "XECNrSPmYQ7f"
      },
      "source": [
        "## Last four overs begin\n"
      ]
    },
    {
      "cell_type": "code",
      "metadata": {
        "colab": {
          "base_uri": "https://localhost:8080/"
        },
        "id": "o3jZ54EjYdNL",
        "outputId": "65bea8ae-111f-480b-81af-5ab79c9c68e9"
      },
      "source": [
        "while i<25 and striker is not None:   \n",
        "\n",
        "    time.sleep(1) # Delay introduced for onlooker's convenience\n",
        "    runs = random.choice(striker.run_gen)  #Score runs as per striker's probability\n",
        "    disp_ovr=(str(i//6)+\".\"+str(i%6))      #Over number formatted\n",
        "\n",
        "    \n",
        "    if runs == 7:    # 7 is the indicator chosen for batsman getting out\n",
        "      print(disp_ovr,\" \",striker.name + \" is OUT\")\n",
        "      scores[striker.name]=[striker.runs_sco,(striker.balls_f + 1),'OUT']\n",
        "      striker = None  #Remove the attributes of batsman who has got out\n",
        "      wkts-=1         #Deduct wickets\n",
        "      runs=0          #Set runs to 0\n",
        "      \n",
        "      ##Next batsman\n",
        "      if any(nextin.values()) is not False: # Check if nextin is empty\n",
        "       batsman,dtail=nextin.popitem(last=False) #extract next batsman in the order inserted - FIFO\n",
        "       striker = player(batsman,dtail[0],dtail[1],dtail[3]) #New batsman\n",
        "\n",
        "      elif any(nextin.values()) is False: # All wickets down\n",
        "       print(\"All out !\")\n",
        "       break                               ##Match Over\n",
        "      \n",
        "    elif runs!= 7 and runs%2!=0:  # Odd no. of runs scored\n",
        "      \n",
        "      print(disp_ovr,\" \",striker.name+\" scores\",runs)\n",
        "      striker.runs_sco = striker.runs_sco + runs # accumulate strikers runs\n",
        "      striker.balls_f  = striker.balls_f  + 1    # accumulate balls faced\n",
        "      scores[striker.name]=[striker.runs_sco,striker.balls_f,'NOT OUT'] #Store in Dict\n",
        "      team_runs = team_runs + runs               # total runs\n",
        "      \n",
        "      striker,nonstriker = nonstriker,striker  ##strike change due to odd runs\n",
        "\n",
        "    elif runs!= 7 and runs%2==0:  ## Even no. of runs scored\n",
        "      \n",
        "      print(disp_ovr,\" \",striker.name+\" scores\",runs)\n",
        "      striker.runs_sco = striker.runs_sco + runs # accumulate strikers runs\n",
        "      striker.balls_f  = striker.balls_f  + 1    # accumulate balls faced\n",
        "      scores[striker.name]=[striker.runs_sco,striker.balls_f,'NOT OUT']\n",
        "      team_runs = team_runs + runs\n",
        "      \n",
        "     \n",
        "##    print( \"Striker is \"+striker.name,\",\",\"Nonstriker is \" + nonstriker.name)\n",
        "\n",
        "    if team_runs >= 40:  #Check for total runs\n",
        "      print()\n",
        "      print(\"Match over !\")\n",
        "      print(\"RCB won the match by \",wkts,\" wickets\")\n",
        "\n",
        "      break\n",
        "     \n",
        "    if i%6 == 0 and striker is not None :  #Last ball of the over \n",
        "\n",
        "       striker,nonstriker = nonstriker,striker #strike change for next over\n",
        "       ovrs = ovrs - 1                         #Completion of over\n",
        "       if ovrs !=0:\n",
        "        print() \n",
        "        print(ovrs, \" overs left\",(40-team_runs), \" to win.\",str(wkts)+\" wickets in hand \")\n",
        "\n",
        "       elif ovrs == 0:\n",
        "         break      \n",
        "        \n",
        "    i+=1                                    #Increment i for next ball\n"
      ],
      "execution_count": 8,
      "outputs": [
        {
          "output_type": "stream",
          "text": [
            "0.1   Kohli scores 3\n",
            "0.2   Shivam Dube scores 2\n",
            "0.3   Shivam Dube scores 4\n",
            "0.4   Shivam Dube scores 2\n",
            "0.5   Shivam Dube scores 6\n",
            "1.0   Shivam Dube scores 2\n",
            "\n",
            "3  overs left 21  to win. 3 wickets in hand \n",
            "1.1   Kohli scores 3\n",
            "1.2   Shivam Dube scores 2\n",
            "1.3   Shivam Dube scores 2\n",
            "1.4   Shivam Dube scores 2\n",
            "1.5   Shivam Dube scores 1\n",
            "2.0   Kohli is OUT\n",
            "\n",
            "2  overs left 11  to win. 2 wickets in hand \n",
            "2.1   Shivam Dube scores 0\n",
            "2.2   Shivam Dube scores 3\n",
            "2.3   W Sundar scores 1\n",
            "2.4   Shivam Dube scores 1\n",
            "2.5   W Sundar is OUT\n",
            "3.0   Navdeep Saini scores 0\n",
            "\n",
            "1  overs left 6  to win. 1 wickets in hand \n",
            "3.1   Shivam Dube scores 0\n",
            "3.2   Shivam Dube scores 4\n",
            "3.3   Shivam Dube scores 2\n",
            "\n",
            "Match over !\n",
            "RCB won the match by  1  wickets\n"
          ],
          "name": "stdout"
        }
      ]
    },
    {
      "cell_type": "code",
      "metadata": {
        "id": "fNohYmYJYo3a"
      },
      "source": [
        "## Team losing and Tie situations      \n",
        "if (team_runs <40): #Team loses match\n",
        "  print()\n",
        "  print(\"RCB lost the match by\",(40-team_runs),\" runs\")\n",
        "\n",
        "elif (team_runs == 39):      # Tie situation\n",
        "  print(\"Its a Tie\")"
      ],
      "execution_count": 9,
      "outputs": []
    },
    {
      "cell_type": "markdown",
      "metadata": {
        "id": "5hdxVhU3Yx5o"
      },
      "source": [
        "##Final score card"
      ]
    },
    {
      "cell_type": "code",
      "metadata": {
        "colab": {
          "base_uri": "https://localhost:8080/"
        },
        "id": "iOei4_EvYzdr",
        "outputId": "37306874-d3ab-42d1-a53e-f462bd3e9dd1"
      },
      "source": [
        "for l,m in scores.items():\n",
        "    print(l,\"-\",m[0],\"(\",m[1],\"balls\"+\")\",m[2])"
      ],
      "execution_count": 10,
      "outputs": [
        {
          "output_type": "stream",
          "text": [
            "Kohli - 6 ( 3 balls) OUT\n",
            "Shivam Dube - 33 ( 15 balls) NOT OUT\n",
            "W Sundar - 1 ( 2 balls) OUT\n",
            "Navdeep Saini - 0 ( 1 balls) NOT OUT\n"
          ],
          "name": "stdout"
        }
      ]
    }
  ]
}