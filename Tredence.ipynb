{
  "nbformat": 4,
  "nbformat_minor": 0,
  "metadata": {
    "colab": {
      "name": "Tredence.ipynb",
      "provenance": [],
      "authorship_tag": "ABX9TyOg3/6pg75Z2UxveoOgnfrg",
      "include_colab_link": true
    },
    "kernelspec": {
      "name": "python3",
      "display_name": "Python 3"
    },
    "language_info": {
      "name": "python"
    }
  },
  "cells": [
    {
      "cell_type": "markdown",
      "metadata": {
        "id": "view-in-github",
        "colab_type": "text"
      },
      "source": [
        "<a href=\"https://colab.research.google.com/github/venkeeg/Python-codes/blob/master/Tredence.ipynb\" target=\"_parent\"><img src=\"https://colab.research.google.com/assets/colab-badge.svg\" alt=\"Open In Colab\"/></a>"
      ]
    },
    {
      "cell_type": "markdown",
      "source": [
        "**Tredence Data Scientist hiring challenge**                           \n",
        "\n",
        "\n",
        "> Candidate : Venkatesh Gopalarathnam\n",
        "  \n",
        "\n",
        "> e-mail    : venkeeg@gmail.com\n",
        "\n",
        "\n",
        "\n",
        "> Languages and tools used : Python, Pandas, statsmodels and others.\n",
        "\n",
        "\n",
        "\n",
        "\n",
        "\n",
        "\n",
        "\n",
        "\n"
      ],
      "metadata": {
        "id": "JVDuACdl3dHi"
      }
    },
    {
      "cell_type": "code",
      "execution_count": null,
      "metadata": {
        "colab": {
          "base_uri": "https://localhost:8080/"
        },
        "id": "GDF4lnEFdIZc",
        "outputId": "574fa452-5f23-4643-bf21-f320060f1dd7"
      },
      "outputs": [
        {
          "output_type": "stream",
          "name": "stdout",
          "text": [
            "ID                               object\n",
            "date                     datetime64[ns]\n",
            "warehouse_ID                     object\n",
            "Latitude                        float64\n",
            "Longitude                       float64\n",
            "Product_Type                     object\n",
            "year                              int64\n",
            "month                            object\n",
            "is_weekend                       object\n",
            "is_warehouse_closed              object\n",
            "daily_dispatch_count            float64\n",
            "weekly_dispatch_count           float64\n",
            "dtype: object\n",
            "       ID       date warehouse_ID   Latitude  Longitude Product_Type  year  \\\n",
            "0  0x2710 2017-01-01     WH_0x3e9  41.681471 -72.794746       Type_A  2017   \n",
            "1  0x2711 2017-01-02     WH_0x3e9  41.681471 -72.794746       Type_A  2017   \n",
            "2  0x2712 2017-01-03     WH_0x3e9  41.681471 -72.794746       Type_A  2017   \n",
            "3  0x2713 2017-01-04     WH_0x3e9  41.681471 -72.794746       Type_A  2017   \n",
            "\n",
            "     month is_weekend is_warehouse_closed  daily_dispatch_count  \\\n",
            "0  January        Yes                  No                   5.5   \n",
            "1  January         No                  No                   4.8   \n",
            "2  January         No                  No                   5.8   \n",
            "3  January         No                  No                   6.6   \n",
            "\n",
            "   weekly_dispatch_count  \n",
            "0                    5.5  \n",
            "1                    NaN  \n",
            "2                    NaN  \n",
            "3                    NaN  \n",
            "Index(['ID', 'date', 'warehouse_ID', 'Latitude', 'Longitude', 'Product_Type',\n",
            "       'year', 'month', 'is_weekend', 'is_warehouse_closed',\n",
            "       'daily_dispatch_count', 'weekly_dispatch_count', 'dayofweek'],\n",
            "      dtype='object')\n"
          ]
        }
      ],
      "source": [
        "#Importing necessary modules and reading training file\n",
        "import pandas as pd\n",
        "import matplotlib.pyplot as plt \n",
        "from sklearn.metrics import mean_absolute_percentage_error\n",
        "import warnings\n",
        "warnings.filterwarnings('ignore')\n",
        "\n",
        "#Reading train.csv into a Pandas DataFrame\n",
        "df = pd.read_csv('train.csv')\n",
        "\n",
        "#Converting date to datetime format \n",
        "df['date']=pd.to_datetime(df['date'])\n",
        "\n",
        "#Observing data types\n",
        "print(df.dtypes)\n",
        "\n",
        "print(df.head(n=4))\n",
        "\n",
        "df['dayofweek']=df['date'].dt.dayofweek\n",
        "print(df.columns)"
      ]
    },
    {
      "cell_type": "markdown",
      "source": [
        "## Approach \n",
        "\n",
        "\n",
        "---\n",
        "\n",
        "\n",
        "On observing the data from the training file, it was inferred that the target variable to be forecasted '**weekly_dispatch_count**' is specific to Product Type and Warehouse. \n",
        "\n",
        "Hence I decided to go with the approach of performing predictions at Product Type and Warehouse level. This means, there would be a specific model for every Product Type and Warehouse ID. \n"
      ],
      "metadata": {
        "id": "ymeLaW1E4lho"
      }
    },
    {
      "cell_type": "markdown",
      "source": [
        "### Observing stationarity by ADF test \n",
        "\n",
        "ADF test was performed on 'weekly_dispatch_count' of every warehouse and Product type combination.\n",
        "\n",
        "Corresponsing p-values were observed to ascertain if the time series is stationary or non-stationary. \n",
        "\n",
        "Since some were found to be stationary and others non-stationary, I decided to go with ARIMA model for forecasting which has the differencing parameter to make the series stationary."
      ],
      "metadata": {
        "id": "AQiZjoEMxS_d"
      }
    },
    {
      "cell_type": "code",
      "source": [
        "#Performing ADF test to observe stationarity for every combination of Product type and warehouse ID\n",
        "from statsmodels.tsa.stattools import adfuller\n",
        "import numpy as np\n",
        "\n",
        "\n",
        "temp = df[(df['dayofweek']==6 ) & (df['Product_Type']=='Type_A') & (df['warehouse_ID']=='WH_0x3e9')]\n",
        "#temp['weekly_dispatch_count'] = temp['weekly_dispatch_count'].diff()\n",
        "#temp.dropna(inplace=True)\n",
        "print(\"Results of ADF test :\",adfuller(temp['weekly_dispatch_count'],regression='ct'))\n",
        "\n",
        "temp.plot(figsize=[8,8],x='date',y='weekly_dispatch_count')\n",
        "plt.title('Weekly Dispatch count')\n",
        "plt.show()"
      ],
      "metadata": {
        "colab": {
          "base_uri": "https://localhost:8080/",
          "height": 550
        },
        "id": "t2MFAGoWlxsf",
        "outputId": "443ce78d-fa33-4bdd-beda-9906620538a5"
      },
      "execution_count": null,
      "outputs": [
        {
          "output_type": "stream",
          "name": "stdout",
          "text": [
            "Results of ADF test : (-2.7312991433881306, 0.22331802445522242, 2, 223, {'1%': -3.9999506167815206, '5%': -3.4303636888103926, '10%': -3.138725564735756}, 1269.2865792941948)\n"
          ]
        },
        {
          "output_type": "display_data",
          "data": {
            "text/plain": [
              "<Figure size 576x576 with 1 Axes>"
            ],
            "image/png": "[encoded data removed]"
          },
          "metadata": {
            "needs_background": "light"
          }
        }
      ]
    },
    {
      "cell_type": "code",
      "source": [
        "#Trend, Seasonality components were observed for every combination of Product type and warehouse\n",
        "from statsmodels.tsa.seasonal import seasonal_decompose\n",
        "\n",
        "temp1 = df[(df['dayofweek']==6 ) & (df['Product_Type']=='Type_A') & (df['warehouse_ID']=='WH_0x3e9')]\n",
        "temp1.set_index(['date'],inplace=True)\n",
        "\n",
        "add_temp1 = seasonal_decompose(temp1['weekly_dispatch_count'],model='add',freq=1)\n",
        "add_temp1.plot()\n",
        "plt.show()\n"
      ],
      "metadata": {
        "colab": {
          "base_uri": "https://localhost:8080/",
          "height": 298
        },
        "id": "DZl3kCbQXfEL",
        "outputId": "0a12c583-8960-4978-bb5c-14bb02604099"
      },
      "execution_count": null,
      "outputs": [
        {
          "output_type": "display_data",
          "data": {
            "text/plain": [
              "<Figure size 432x288 with 4 Axes>"
            ],
            "image/png": "[encoded data removed]"
          },
          "metadata": {
            "needs_background": "light"
          }
        }
      ]
    },
    {
      "cell_type": "code",
      "source": [
        "#Plotting ACF and PACF plots for \"weekly_dispatch_count\" of every Product Type and warehouse ID\n",
        "#to ascertain appropriate value for lag to be included in the ARIMA forecasting model\n",
        "\n",
        "from statsmodels.tsa.stattools import acf,pacf\n",
        "\n",
        "acf_lag = acf(temp1['weekly_dispatch_count'])\n",
        "plt.plot(acf_lag)\n",
        "plt.show()\n",
        "\n",
        "pacf_lag = pacf(temp1['weekly_dispatch_count'])\n",
        "plt.plot(pacf_lag)\n",
        "plt.show()"
      ],
      "metadata": {
        "colab": {
          "base_uri": "https://localhost:8080/",
          "height": 513
        },
        "id": "WddkKHCkYRQB",
        "outputId": "1ee9489a-ace5-45d7-cea1-cd0cf516a4d0"
      },
      "execution_count": null,
      "outputs": [
        {
          "output_type": "display_data",
          "data": {
            "text/plain": [
              "<Figure size 432x288 with 1 Axes>"
            ],
            "image/png": "[encoded data removed]"
          },
          "metadata": {
            "needs_background": "light"
          }
        },
        {
          "output_type": "display_data",
          "data": {
            "text/plain": [
              "<Figure size 432x288 with 1 Axes>"
            ],
            "image/png": "[encoded data removed]"
          },
          "metadata": {
            "needs_background": "light"
          }
        }
      ]
    },
    {
      "cell_type": "markdown",
      "source": [
        "### Modeling and validation at Product Type and Warehouse level\n",
        "\n",
        "\n",
        "---\n",
        "\n",
        "\n",
        "An ARIMA model was used from statsmodels and models were trained for every combination of Product Type and Warehouse ID. Lag values to be used in the ARIMA model were ascertained by visualizing ACF and PACF plots in the previous section for every combination.\n",
        "\n",
        " Validation with sample dates was also performed."
      ],
      "metadata": {
        "id": "GGhhl3nU6JS6"
      }
    },
    {
      "cell_type": "code",
      "source": [
        "# Warehouse specific Modeling & validation for Product Type - Type A\n",
        "\n",
        "from statsmodels.tsa.arima_model import ARIMA\n",
        "import warnings\n",
        "warnings.filterwarnings('ignore')\n",
        "\n",
        "# Training model for Product Type - Type_A for 10 warehouses\n",
        "\n",
        "#WH_0x3e9\n",
        "temp2=df[(df['dayofweek']==6 ) & (df['Product_Type']=='Type_A') & (df['warehouse_ID']=='WH_0x3e9')]\n",
        "temp2.set_index(['date'],inplace=True)\n",
        "temp2=temp2[['weekly_dispatch_count']]\n",
        "model_WH_0x3e9_A  = ARIMA(temp2['weekly_dispatch_count'],order=(4,0,2))\n",
        "\n",
        "\n",
        "act = temp2[(temp2.index >='2021-04-18') & ( temp2.index<='2021-04-18')]\n",
        "WH_0x3e9_A = model_WH_0x3e9_A.fit()\n",
        "pred = WH_0x3e9_A.predict(start='2021-04-18',end='2021-04-18')\n",
        "\n",
        "print(max(0,100*(1-mean_absolute_percentage_error(act,pred))))\n",
        "\n",
        "\n",
        "#WH_0x3ea\n",
        "temp2=df[(df['dayofweek']==6 ) & (df['Product_Type']=='Type_A') & (df['warehouse_ID']=='WH_0x3ea')]\n",
        "temp2.set_index(['date'],inplace=True)\n",
        "temp2=temp2[['weekly_dispatch_count']]\n",
        "model_WH_0x3ea_A = ARIMA(temp2['weekly_dispatch_count'],order=(5,0,2))\n",
        "\n",
        "\n",
        "act = temp2[(temp2.index >='2021-04-18') & ( temp2.index<='2021-04-18')]\n",
        "WH_0x3ea_A = model_WH_0x3ea_A.fit()\n",
        "pred = WH_0x3ea_A.predict(start='2021-04-18',end='2021-04-18')\n",
        "\n",
        "print(max(0,100*(1-mean_absolute_percentage_error(act,pred))))\n",
        "\n",
        "#WH_0x3eb\n",
        "temp2=df[(df['dayofweek']==6 ) & (df['Product_Type']=='Type_A') & (df['warehouse_ID']=='WH_0x3eb')]\n",
        "temp2.set_index(['date'],inplace=True)\n",
        "temp2=temp2[['weekly_dispatch_count']]\n",
        "model_WH_0x3eb_A = ARIMA(temp2['weekly_dispatch_count'],order=(4,0,2))\n",
        "\n",
        "act = temp2[(temp2.index >='2021-04-18') & ( temp2.index<='2021-04-18')]\n",
        "WH_0x3eb_A = model_WH_0x3eb_A.fit()\n",
        "pred = WH_0x3eb_A.predict(start='2021-04-18',end='2021-04-18')\n",
        "\n",
        "print(max(0,100*(1-mean_absolute_percentage_error(act,pred))))\n",
        "\n",
        "\n",
        "#WH_0x3ec\n",
        "temp2=df[(df['dayofweek']==6 ) & (df['Product_Type']=='Type_A') & (df['warehouse_ID']=='WH_0x3ec')]\n",
        "temp2.set_index(['date'],inplace=True)\n",
        "temp2=temp2[['weekly_dispatch_count']]\n",
        "model_WH_0x3ec_A = ARIMA(temp2['weekly_dispatch_count'],order=(4,0,3))\n",
        "\n",
        "act = temp2[(temp2.index >='2021-04-18') & ( temp2.index<='2021-04-18')]\n",
        "WH_0x3ec_A = model_WH_0x3ec_A.fit()\n",
        "pred = WH_0x3ec_A.predict(start='2021-04-18',end='2021-04-18')\n",
        "\n",
        "print(max(0,100*(1-mean_absolute_percentage_error(act,pred))))\n",
        "\n",
        "#WH_0x3ed\n",
        "temp2=df[(df['dayofweek']==6 ) & (df['Product_Type']=='Type_A') & (df['warehouse_ID']=='WH_0x3ed')]\n",
        "temp2.set_index(['date'],inplace=True)\n",
        "temp2=temp2[['weekly_dispatch_count']]\n",
        "model_WH_0x3ed_A = ARIMA(temp2['weekly_dispatch_count'],order=(4,0,2))\n",
        "\n",
        "act = temp2[(temp2.index >='2021-04-18') & ( temp2.index<='2021-04-18')]\n",
        "WH_0x3ed_A = model_WH_0x3ed_A.fit()\n",
        "pred = WH_0x3ed_A.predict(start='2021-04-18',end='2021-04-18')\n",
        "\n",
        "print(max(0,100*(1-mean_absolute_percentage_error(act,pred))))\n",
        "\n",
        "\n",
        "#WH_0x3ee\n",
        "temp2=df[(df['dayofweek']==6 ) & (df['Product_Type']=='Type_A') & (df['warehouse_ID']=='WH_0x3ee')]\n",
        "temp2.set_index(['date'],inplace=True)\n",
        "temp2=temp2[['weekly_dispatch_count']]\n",
        "model_WH_0x3ee_A = ARIMA(temp2['weekly_dispatch_count'],order=(4,0,0))\n",
        "\n",
        "act = temp2[(temp2.index >='2021-04-18') & ( temp2.index<='2021-04-18')]\n",
        "WH_0x3ee_A = model_WH_0x3ee_A.fit()\n",
        "pred = WH_0x3ee_A.predict(start='2021-04-18',end='2021-04-18')\n",
        "\n",
        "print(max(0,100*(1-mean_absolute_percentage_error(act,pred))))\n",
        "\n",
        "\n",
        "#WH_0x3ef\n",
        "temp2=df[(df['dayofweek']==6 ) & (df['Product_Type']=='Type_A') & (df['warehouse_ID']=='WH_0x3ef')]\n",
        "temp2.set_index(['date'],inplace=True)\n",
        "temp2=temp2[['weekly_dispatch_count']]\n",
        "model_WH_0x3ef_A = ARIMA(temp2['weekly_dispatch_count'],order=(2,0,2))\n",
        "\n",
        "act = temp2[(temp2.index >='2021-04-18') & ( temp2.index<='2021-04-18')]\n",
        "WH_0x3ef_A = model_WH_0x3ef_A.fit()\n",
        "pred = WH_0x3ef_A.predict(start='2021-04-18',end='2021-04-18')\n",
        "\n",
        "print(max(0,100*(1-mean_absolute_percentage_error(act,pred))))\n",
        "\n",
        "#WH_0x3f0\n",
        "temp2=df[(df['dayofweek']==6 ) & (df['Product_Type']=='Type_A') & (df['warehouse_ID']=='WH_0x3f0')]\n",
        "temp2.set_index(['date'],inplace=True)\n",
        "temp2=temp2[['weekly_dispatch_count']]\n",
        "model_WH_0x3f0_A = ARIMA(temp2['weekly_dispatch_count'],order=(0,0,2))\n",
        "\n",
        "act = temp2[(temp2.index >='2021-04-18') & ( temp2.index<='2021-04-18')]\n",
        "WH_0x3f0_A = model_WH_0x3f0_A.fit()\n",
        "pred = WH_0x3f0_A.predict(start='2021-04-18',end='2021-04-18')\n",
        "\n",
        "print(max(0,100*(1-mean_absolute_percentage_error(act,pred))))\n",
        "\n",
        "\n",
        "#WH_0x3f1\n",
        "temp2=df[(df['dayofweek']==6 ) & (df['Product_Type']=='Type_A') & (df['warehouse_ID']=='WH_0x3f1')]\n",
        "temp2.set_index(['date'],inplace=True)\n",
        "temp2=temp2[['weekly_dispatch_count']]\n",
        "model_WH_0x3f1_A = ARIMA(temp2['weekly_dispatch_count'],order=(4,0,2))\n",
        "\n",
        "act = temp2[(temp2.index >='2021-04-18') & ( temp2.index<='2021-04-18')]\n",
        "WH_0x3f1_A = model_WH_0x3f1_A.fit()\n",
        "pred = WH_0x3f1_A.predict(start='2021-04-18',end='2021-04-18')\n",
        "\n",
        "print(max(0,100*(1-mean_absolute_percentage_error(act,pred))))\n",
        "\n",
        "\n",
        "#WH_0x3f2\n",
        "temp2=df[(df['dayofweek']==6 ) & (df['Product_Type']=='Type_A') & (df['warehouse_ID']=='WH_0x3f2')]\n",
        "temp2.set_index(['date'],inplace=True)\n",
        "temp2=temp2[['weekly_dispatch_count']]\n",
        "model_WH_0x3f2_A = ARIMA(temp2['weekly_dispatch_count'],order=(1,0,2))\n",
        "\n",
        "act = temp2[(temp2.index >='2021-04-18') & ( temp2.index<='2021-04-18')]\n",
        "WH_0x3f2_A = model_WH_0x3f2_A.fit()\n",
        "pred = WH_0x3f2_A.predict(start='2021-04-18',end='2021-04-18')\n",
        "\n",
        "print(max(0,100*(1-mean_absolute_percentage_error(act,pred))))\n"
      ],
      "metadata": {
        "colab": {
          "base_uri": "https://localhost:8080/"
        },
        "id": "hQRj0_6Je8-s",
        "outputId": "82347305-043c-4c3a-af3f-aa1d4b07ef45"
      },
      "execution_count": null,
      "outputs": [
        {
          "output_type": "stream",
          "name": "stdout",
          "text": [
            "95.37077567015938\n",
            "71.46289628298044\n",
            "91.83146371833922\n",
            "86.49905343565436\n",
            "95.99241271810381\n",
            "50.85711756033482\n",
            "83.3485040515131\n",
            "93.57959278024235\n",
            "83.51491901253249\n",
            "87.44929931317272\n"
          ]
        }
      ]
    },
    {
      "cell_type": "code",
      "source": [
        "# Warehouse specific Modeling & validation for Product_Type - Type B\n",
        "\n",
        "#WH_0x3e9\n",
        "temp2=df[(df['dayofweek']==6 ) & (df['Product_Type']=='Type_B') & (df['warehouse_ID']=='WH_0x3e9')]\n",
        "temp2.set_index(['date'],inplace=True)\n",
        "temp2=temp2[['weekly_dispatch_count']]\n",
        "model_WH_0x3e9_B = ARIMA(temp2['weekly_dispatch_count'],order=(0,1,0))\n",
        "\n",
        "act = temp2[(temp2.index >='2021-04-18') & ( temp2.index<='2021-04-18')]\n",
        "WH_0x3e9_B = model_WH_0x3e9_B.fit()\n",
        "pred = WH_0x3e9_B.predict(start='2021-04-18',end='2021-04-18')\n",
        "\n",
        "print(max(0,100*(1-mean_absolute_percentage_error(act,pred))))\n",
        "\n",
        "\n",
        "#WH_0x3ea\n",
        "temp2=df[(df['dayofweek']==6 ) & (df['Product_Type']=='Type_B') & (df['warehouse_ID']=='WH_0x3ea')]\n",
        "temp2.set_index(['date'],inplace=True)\n",
        "temp2=temp2[['weekly_dispatch_count']]\n",
        "model_WH_0x3ea_B = ARIMA(temp2['weekly_dispatch_count'],order=(5,0,2))\n",
        "\n",
        "act = temp2[(temp2.index >='2021-04-18') & ( temp2.index<='2021-04-18')]\n",
        "WH_0x3ea_B = model_WH_0x3ea_B.fit()\n",
        "pred = WH_0x3ea_B.predict(start='2021-04-18',end='2021-04-18')\n",
        "\n",
        "print(max(0,100*(1-mean_absolute_percentage_error(act,pred))))\n",
        "\n",
        "\n",
        "#WH_0x3eb\n",
        "temp2=df[(df['dayofweek']==6 ) & (df['Product_Type']=='Type_B') & (df['warehouse_ID']=='WH_0x3eb')]\n",
        "temp2.set_index(['date'],inplace=True)\n",
        "temp2=temp2[['weekly_dispatch_count']]\n",
        "model_WH_0x3eb_B = ARIMA(temp2['weekly_dispatch_count'],order=(4,0,0))\n",
        "\n",
        "act = temp2[(temp2.index >='2021-04-18') & ( temp2.index<='2021-04-18')]\n",
        "WH_0x3eb_B = model_WH_0x3eb_B.fit()\n",
        "pred = WH_0x3eb_B.predict(start='2021-04-18',end='2021-04-18')\n",
        "\n",
        "print(max(0,100*(1-mean_absolute_percentage_error(act,pred))))\n",
        "\n",
        "\n",
        "\n",
        "#WH_0x3ec\n",
        "temp2=df[(df['dayofweek']==6 ) & (df['Product_Type']=='Type_B') & (df['warehouse_ID']=='WH_0x3ec')]\n",
        "temp2.set_index(['date'],inplace=True)\n",
        "temp2=temp2[['weekly_dispatch_count']]\n",
        "model_WH_0x3ec_B = ARIMA(temp2['weekly_dispatch_count'],order=(6,0,2))\n",
        "\n",
        "act = temp2[(temp2.index >='2021-04-18') & ( temp2.index<='2021-04-18')]\n",
        "WH_0x3ec_B = model_WH_0x3ec_B.fit()\n",
        "pred = WH_0x3ec_B.predict(start='2021-04-18',end='2021-04-18')\n",
        "\n",
        "print(max(0,100*(1-mean_absolute_percentage_error(act,pred))))\n",
        "\n",
        "\n",
        "#WH_0x3ed\n",
        "temp2=df[(df['dayofweek']==6 ) & (df['Product_Type']=='Type_B') & (df['warehouse_ID']=='WH_0x3ed')]\n",
        "temp2.set_index(['date'],inplace=True)\n",
        "temp2=temp2[['weekly_dispatch_count']]\n",
        "model_WH_0x3ed_B = ARIMA(temp2['weekly_dispatch_count'],order=(6,0,2))\n",
        "\n",
        "act = temp2[(temp2.index >='2021-04-18') & ( temp2.index<='2021-04-18')]\n",
        "WH_0x3ed_B = model_WH_0x3ed_B.fit()\n",
        "pred = WH_0x3ed_B.predict(start='2021-04-18',end='2021-04-18')\n",
        "\n",
        "print(max(0,100*(1-mean_absolute_percentage_error(act,pred))))\n",
        "\n",
        "\n",
        "#WH_0x3ee\n",
        "temp2=df[(df['dayofweek']==6 ) & (df['Product_Type']=='Type_B') & (df['warehouse_ID']=='WH_0x3ee')]\n",
        "temp2.set_index(['date'],inplace=True)\n",
        "temp2=temp2[['weekly_dispatch_count']]\n",
        "model_WH_0x3ee_B = ARIMA(temp2['weekly_dispatch_count'],order=(5,0,0))\n",
        "\n",
        "act = temp2[(temp2.index >='2021-04-18') & ( temp2.index<='2021-04-18')]\n",
        "WH_0x3ee_B = model_WH_0x3ee_B.fit()\n",
        "pred = WH_0x3ee_B.predict(start='2021-04-18',end='2021-04-18')\n",
        "\n",
        "print(max(0,100*(1-mean_absolute_percentage_error(act,pred))))\n",
        "\n",
        "\n",
        "#WH_0x3ef\n",
        "temp2=df[(df['dayofweek']==6 ) & (df['Product_Type']=='Type_B') & (df['warehouse_ID']=='WH_0x3ef')]\n",
        "temp2.set_index(['date'],inplace=True)\n",
        "temp2=temp2[['weekly_dispatch_count']]\n",
        "model_WH_0x3ef_B = ARIMA(temp2['weekly_dispatch_count'],order=(0,0,0))\n",
        "\n",
        "act = temp2[(temp2.index >='2021-04-18') & ( temp2.index<='2021-04-18')]\n",
        "WH_0x3ef_B = model_WH_0x3ef_B.fit()\n",
        "pred = WH_0x3ef_B.predict(start='2021-04-18',end='2021-04-18')\n",
        "\n",
        "print(max(0,100*(1-mean_absolute_percentage_error(act,pred))))\n",
        "\n",
        "\n",
        "\n",
        "#WH_0x3f0\n",
        "temp2=df[(df['dayofweek']==6 ) & (df['Product_Type']=='Type_B') & (df['warehouse_ID']=='WH_0x3f0')]\n",
        "temp2.set_index(['date'],inplace=True)\n",
        "temp2=temp2[['weekly_dispatch_count']]\n",
        "model_WH_0x3f0_B = ARIMA(temp2['weekly_dispatch_count'],order=(0,0,2))\n",
        "\n",
        "act = temp2[(temp2.index >='2021-04-18') & ( temp2.index<='2021-04-18')]\n",
        "WH_0x3f0_B = model_WH_0x3f0_B.fit()\n",
        "pred = WH_0x3f0_B.predict(start='2021-04-18',end='2021-04-18')\n",
        "\n",
        "print(max(0,100*(1-mean_absolute_percentage_error(act,pred))))\n",
        "\n",
        "\n",
        "\n",
        "#WH_0x3f1\n",
        "temp2=df[(df['dayofweek']==6 ) & (df['Product_Type']=='Type_B') & (df['warehouse_ID']=='WH_0x3f1')]\n",
        "temp2.set_index(['date'],inplace=True)\n",
        "temp2=temp2[['weekly_dispatch_count']]\n",
        "model_WH_0x3f1_B = ARIMA(temp2['weekly_dispatch_count'],order=(0,0,2))\n",
        "\n",
        "act = temp2[(temp2.index >='2021-04-18') & ( temp2.index<='2021-04-18')]\n",
        "WH_0x3f1_B = model_WH_0x3f1_B.fit()\n",
        "pred = WH_0x3f1_B.predict(start='2021-04-18',end='2021-04-18')\n",
        "\n",
        "print(max(0,100*(1-mean_absolute_percentage_error(act,pred))))\n",
        "\n",
        "\n",
        "#WH_0x3f2\n",
        "temp2=df[(df['dayofweek']==6 ) & (df['Product_Type']=='Type_B') & (df['warehouse_ID']=='WH_0x3f2')]\n",
        "temp2.set_index(['date'],inplace=True)\n",
        "temp2=temp2[['weekly_dispatch_count']]\n",
        "model_WH_0x3f2_B = ARIMA(temp2['weekly_dispatch_count'],order=(1,0,2))\n",
        "\n",
        "act = temp2[(temp2.index >='2021-04-18') & ( temp2.index<='2021-04-18')]\n",
        "WH_0x3f2_B = model_WH_0x3f2_B.fit()\n",
        "pred = WH_0x3f2_B.predict(start='2021-04-18',end='2021-04-18')\n",
        "\n",
        "print(max(0,100*(1-mean_absolute_percentage_error(act,pred))))\n"
      ],
      "metadata": {
        "colab": {
          "base_uri": "https://localhost:8080/"
        },
        "id": "HHe7vRxfRWtX",
        "outputId": "1d8c6089-36c5-4bc7-f0de-d3ec366eebfc"
      },
      "execution_count": null,
      "outputs": [
        {
          "output_type": "stream",
          "name": "stdout",
          "text": [
            "0\n",
            "59.607647937538076\n",
            "49.849095199135064\n",
            "80.92004402674505\n",
            "15.335474088795632\n",
            "94.12063303214127\n",
            "82.24062571888659\n",
            "85.194540348251\n",
            "99.91389535972961\n",
            "98.97019817817781\n"
          ]
        }
      ]
    },
    {
      "cell_type": "code",
      "source": [
        "# warehouse ID specific function for Type_A\n",
        "def a_pred(whid):\n",
        "     whouse = {\n",
        "         \n",
        "         'WH_0x3e9_A' : WH_0x3e9_A.predict(start='2021-05-02',end='2021-12-26'),\n",
        "\n",
        "         'WH_0x3ea_A' : WH_0x3ea_A.predict(start='2021-05-02',end='2021-12-26'),\n",
        "\n",
        "         'WH_0x3eb_A' : WH_0x3eb_A.predict(start='2021-05-02',end='2021-12-26'),\n",
        "\n",
        "         'WH_0x3ec_A' : WH_0x3ec_A.predict(start='2021-05-02',end='2021-12-26'),\n",
        "\n",
        "         'WH_0x3ed_A' : WH_0x3ed_A.predict(start='2021-05-02',end='2021-12-26'),\n",
        "\n",
        "         'WH_0x3ee_A' : WH_0x3ee_A.predict(start='2021-05-02',end='2021-12-26'),\n",
        "\n",
        "         'WH_0x3ef_A' : WH_0x3ef_A.predict(start='2021-05-02',end='2021-12-26'),\n",
        "\n",
        "         'WH_0x3f0_A' : WH_0x3f0_A.predict(start='2021-05-02',end='2021-12-26'),\n",
        "\n",
        "         'WH_0x3f1_A' : WH_0x3f1_A.predict(start='2021-05-02',end='2021-12-26'),\n",
        "\n",
        "         'WH_0x3f2_A' : WH_0x3f2_A.predict(start='2021-05-02',end='2021-12-26'),\n",
        "\n",
        "     }\n",
        "\n",
        "\n",
        "     return whouse.get(whid,0)\n",
        "\n",
        "\n",
        "# warehouse ID specific function for Type_B\n",
        "def b_pred(whid):\n",
        "     whouse = {\n",
        "         \n",
        "         'WH_0x3e9_B' : WH_0x3e9_B.predict(start='2021-05-02',end='2021-12-26'),\n",
        "\n",
        "         'WH_0x3ea_B' : WH_0x3ea_B.predict(start='2021-05-02',end='2021-12-26'),\n",
        "\n",
        "         'WH_0x3eb_B' : WH_0x3eb_B.predict(start='2021-05-02',end='2021-12-26'),\n",
        "\n",
        "         'WH_0x3ec_B' : WH_0x3ec_B.predict(start='2021-05-02',end='2021-12-26'),\n",
        "\n",
        "         'WH_0x3ed_B' : WH_0x3ed_B.predict(start='2021-05-02',end='2021-12-26'),\n",
        "\n",
        "         'WH_0x3ee_B' : WH_0x3ee_B.predict(start='2021-05-02',end='2021-12-26'),\n",
        "\n",
        "         'WH_0x3ef_B' : WH_0x3ef_B.predict(start='2021-05-02',end='2021-12-26'),\n",
        "\n",
        "         'WH_0x3f0_B' : WH_0x3f0_B.predict(start='2021-05-02',end='2021-12-26'),\n",
        "\n",
        "         'WH_0x3f1_B' : WH_0x3f1_B.predict(start='2021-05-02',end='2021-12-26'),\n",
        "\n",
        "         'WH_0x3f2_B' : WH_0x3f2_B.predict(start='2021-05-02',end='2021-12-26'),\n",
        "\n",
        "     }\n",
        "\n",
        "     return whouse.get(whid,0)\n",
        "\n",
        "# Reading test file\n",
        "test = pd.read_csv('test.csv',parse_dates=True)\n",
        "\n",
        "#Reading file - submission_weekly\n",
        "sub = pd.read_csv('submission_weekly.csv')\n",
        "\n",
        "#Performing a join on the above files for final prediction\n",
        "test_new = pd.merge(test,sub,on='ID')\n",
        "\n",
        "#Retaining only ID, Product type, warehouse ID and weekly dispatch count\n",
        "test_new = test_new[['ID','Product_Type','warehouse_ID','weekly_dispatch_count']]\n"
      ],
      "metadata": {
        "id": "ONQEa91XfNuD"
      },
      "execution_count": null,
      "outputs": []
    },
    {
      "cell_type": "markdown",
      "source": [
        "## Final predictions\n",
        "\n",
        "\n",
        "---\n",
        "\n",
        "Since the test file provided contains weekly periods betwween 2021-05-02 and 2021-12-26 for all combinations of Product Type and Warehouse ID, the test dataframe was grouped by Product Type and Warehouse ID.\n",
        "\n",
        "At every new group, using the information of Product type and Warehouse ID respective predict methods of the models were called to forecast 'weekly_dispatch_count' values between dates '2021-05-02' and '2021-12-26'. The entire prediction was added in the column corresponding to weekly dispatch count. \n",
        "\n",
        "The above rows of every iteration per group were appended to another DataFrame to obtain all the 700 values required for submission."
      ],
      "metadata": {
        "id": "QiDiC3ry2JSu"
      }
    },
    {
      "cell_type": "code",
      "source": [
        "#Declaring empty DataFrame to store predicted values\n",
        "pred_temp = pd.DataFrame(columns=['ID','Product_Type','warehouse_ID','weekly_dispatch_count'])\n",
        "                         \n",
        "#Grouping DataFrame test_new by Product_Type and warehouse_Id since our models\n",
        "# are product type and warehouse specific                         \n",
        "test_new_gp = test_new.groupby(['Product_Type','warehouse_ID'])\n",
        "\n",
        "#Empty dataframe with column to store weekly dispatch count predicted over\n",
        "# 2021-05-02 and 2021-12-26\n",
        "wkdp = pd.DataFrame(columns=['weekly_dispatch_count'])\n",
        "\n",
        "#Looping at the grouped DataFrame\n",
        "for i,j in test_new_gp:\n",
        "  a,b = i ## a = Product Type, b = warehouse ID\n",
        "  \n",
        "  #Retreiving values from test_new into conc_test for particular Product Type and\n",
        "  #Warehouse ID\n",
        "  conc_test = test_new[(test_new['Product_Type']==a) & (test_new['warehouse_ID']==b)]\n",
        "  conc_test.reset_index(drop=True,inplace=True)\n",
        "\n",
        "  #Drop all data for every iteration\n",
        "  wkdp.drop(wkdp.index,inplace=True) \n",
        " \n",
        "  # If product_type is Type A or B call corresponding function with warehouse ID \n",
        "  # to predict values for weekly dispatch\n",
        "  if a == 'Type_A' :\n",
        "    wkdp['weekly_dispatch_count'] = pd.Series(a_pred(str(b+'_'+'A')))\n",
        "    wkdp.reset_index(drop=True,inplace=True)\n",
        "    \n",
        "    #Store predicted values in corresponding column\n",
        "    conc_test['weekly_dispatch_count'] = wkdp['weekly_dispatch_count']\n",
        "  elif a == 'Type_B':\n",
        "    wkdp['weekly_dispatch_count'] = pd.Series(b_pred(str(b+'_'+'B')))\n",
        "    wkdp.reset_index(drop=True,inplace=True)\n",
        "    \n",
        "    #Store predicted values in corresponding column\n",
        "    conc_test['weekly_dispatch_count'] = wkdp['weekly_dispatch_count']\n",
        "    \n",
        "\n",
        "  #Append the values from above DataFrame to pred_temp \n",
        "  pred_temp = pred_temp.append(conc_test)\n",
        "  \n",
        "\n",
        "#Final list after all iterations\n",
        "pred_temp.reset_index(drop=True,inplace=True)\n",
        "\n",
        "\n",
        "#Reading file submission weekly\n",
        "final_sub = pd.read_csv('submission_weekly.csv')\n",
        "\n",
        "#dropping existing column\n",
        "final_sub.drop(columns=['weekly_dispatch_count'],inplace=True)\n",
        "\n",
        "#Perform join on submission_weekly file\n",
        "final_sub = pd.merge(final_sub,pred_temp,on='ID')\n",
        "\n",
        "#Dropping other columns except \"ID\" and \"weekly_dispatch_count\"\n",
        "final_sub.drop(columns=['Product_Type','warehouse_ID'],inplace=True)\n",
        "print(final_sub.tail(n=4))\n",
        "\n",
        "#Saving final submission file to be uploaded to HackerEarth portal\n",
        "#for scoring\n",
        "final_sub.to_csv('final_sub.csv',index=False)"
      ],
      "metadata": {
        "colab": {
          "base_uri": "https://localhost:8080/"
        },
        "id": "CDudOHrDGAPG",
        "outputId": "3fdc965d-946a-421e-94a2-3ba9187598f6"
      },
      "execution_count": null,
      "outputs": [
        {
          "output_type": "stream",
          "name": "stdout",
          "text": [
            "         ID  weekly_dispatch_count\n",
            "696  0x76a8              40.528126\n",
            "697  0x76a9              14.001932\n",
            "698  0x7b2c              45.777348\n",
            "699  0x7b2d              12.352552\n"
          ]
        }
      ]
    }
  ]
}